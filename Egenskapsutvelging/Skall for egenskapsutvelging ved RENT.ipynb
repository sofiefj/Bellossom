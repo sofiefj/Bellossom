{
 "cells": [
  {
   "cell_type": "code",
   "execution_count": null,
   "id": "a9c04bd4",
   "metadata": {},
   "outputs": [],
   "source": [
    "# Denne notebooken definerer et skall brukt til egenskapsutvelgelse i oppgaven. \n",
    "# Skallet ble brukt til all egenskapsuthenting i oppgaven, med ulike verdier av de ulike parameterene.\n",
    "\n",
    "# Koden til RENT er tilgjengelig fra https://github.com/NMBU-Data-Science/RENT"
   ]
  },
  {
   "cell_type": "code",
   "execution_count": null,
   "id": "27e2ba0e",
   "metadata": {},
   "outputs": [],
   "source": [
    "# Importer:\n",
    "import pandas as pd\n",
    "import sys\n",
    "sys.path.append('C:/Users/Sofie/Documents/GitHub/RENT/src')\n",
    "from RENT import RENT, stability\n",
    "\n",
    "import warnings\n",
    "warnings.filterwarnings(\"ignore\")"
   ]
  },
  {
   "cell_type": "code",
   "execution_count": null,
   "id": "85479d5c",
   "metadata": {},
   "outputs": [],
   "source": [
    "# Definere X og y for egenskapsutvelgelse:\n",
    "X = pd.read_csv('fullt_datasett_ous.csv', index_col=0)\n",
    "X = pd.DataFrame(X)\n",
    "\n",
    "y = pd.read_excel('data/tabular_data/ous/response_ous.xlsx', index_col=0)\n",
    "y = pd.DataFrame(y)\n",
    "\n",
    "# Definere hvilken respons RENT skal velge ut egenskaper for:\n",
    "y = y['event_DFS']"
   ]
  },
  {
   "cell_type": "code",
   "execution_count": null,
   "id": "88721be0",
   "metadata": {},
   "outputs": [],
   "source": [
    "# Regulariseringsparametere som skal brukes i elastisk-nett-regularisering\n",
    "C_params = [0.1, 1, 10, 100]\n",
    "\n",
    "# L1-forhold som skal brukes i elastisk-nett-regularisering\n",
    "L1_ratios = [0, 0.1, 0.25, 0.5, 0.75, 0.9]\n",
    "\n",
    "# Definere instillinger for RENT\n",
    "model = RENT.RENT_Classification(data=X, \n",
    "                                 target=y, \n",
    "                                 feat_names=X.columns, \n",
    "                                 C=C_params, \n",
    "                                 l1_ratios=L1_ratios,\n",
    "                                 autoEnetParSel=False,\n",
    "                                 BIC=False,\n",
    "                                 poly='OFF',\n",
    "                                 testsize_range=(0.25,0.25),\n",
    "                                 scoring='mcc',                   \n",
    "                                 classifier='logreg',\n",
    "                                 K=100,\n",
    "                                 random_state=0,\n",
    "                                 verbose=1)"
   ]
  },
  {
   "cell_type": "code",
   "execution_count": null,
   "id": "45453aaa",
   "metadata": {},
   "outputs": [],
   "source": [
    "# Trene modell\n",
    "model.train()\n",
    "\n",
    "# Hente ut valgt parameterkombinasjon av C og L1-ratio\n",
    "model.get_enet_params()"
   ]
  },
  {
   "cell_type": "code",
   "execution_count": null,
   "id": "76a7ac3a",
   "metadata": {},
   "outputs": [],
   "source": [
    "# Definering av ulike undersett av egenskaper for ulike verdier av tau_1 og tau_2\n",
    "selected_features_02 = model.select_features(tau_1_cutoff=0.2, tau_2_cutoff=0.2, tau_3_cutoff=0.975)\n",
    "selected_features_03 = model.select_features(tau_1_cutoff=0.3, tau_2_cutoff=0.3, tau_3_cutoff=0.975)\n",
    "selected_features_04 = model.select_features(tau_1_cutoff=0.4, tau_2_cutoff=0.4, tau_3_cutoff=0.975)\n",
    "selected_features_05 = model.select_features(tau_1_cutoff=0.5, tau_2_cutoff=0.5, tau_3_cutoff=0.975)\n",
    "selected_features_06 = model.select_features(tau_1_cutoff=0.6, tau_2_cutoff=0.6, tau_3_cutoff=0.975)\n",
    "selected_features_07 = model.select_features(tau_1_cutoff=0.7, tau_2_cutoff=0.7, tau_3_cutoff=0.975)\n",
    "selected_features_08 = model.select_features(tau_1_cutoff=0.8, tau_2_cutoff=0.8, tau_3_cutoff=0.975)\n",
    "selected_features_09 = model.select_features(tau_1_cutoff=0.9, tau_2_cutoff=0.9, tau_3_cutoff=0.975)"
   ]
  },
  {
   "cell_type": "code",
   "execution_count": null,
   "id": "53625636",
   "metadata": {},
   "outputs": [],
   "source": [
    "# Lagring av ulike undersett:\n",
    "selected_features_02.to_csv('Undersett02DFS.csv')\n",
    "selected_features_03.to_csv('Undersett03DFS.csv')\n",
    "selected_features_04.to_csv('Undersett04DFS.csv')\n",
    "selected_features_05.to_csv('Undersett05DFS.csv')\n",
    "selected_features_06.to_csv('Undersett06DFS.csv')\n",
    "selected_features_07.to_csv('Undersett07DFS.csv')\n",
    "selected_features_08.to_csv('Undersett08DFS.csv')\n",
    "selected_features_09.to_csv('Undersett09DFS.csv')"
   ]
  }
 ],
 "metadata": {
  "kernelspec": {
   "display_name": "Python 3 (ipykernel)",
   "language": "python",
   "name": "python3"
  },
  "language_info": {
   "codemirror_mode": {
    "name": "ipython",
    "version": 3
   },
   "file_extension": ".py",
   "mimetype": "text/x-python",
   "name": "python",
   "nbconvert_exporter": "python",
   "pygments_lexer": "ipython3",
   "version": "3.9.7"
  }
 },
 "nbformat": 4,
 "nbformat_minor": 5
}
